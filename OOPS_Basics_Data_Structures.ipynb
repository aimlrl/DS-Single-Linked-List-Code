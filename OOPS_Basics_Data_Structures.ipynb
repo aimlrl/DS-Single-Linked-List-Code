{
 "cells": [
  {
   "cell_type": "code",
   "execution_count": 3,
   "metadata": {},
   "outputs": [],
   "source": [
    "class train_coach:\n",
    "    \n",
    "    a_number = None\n",
    "    \n",
    "    hook = None"
   ]
  },
  {
   "cell_type": "code",
   "execution_count": 4,
   "metadata": {},
   "outputs": [],
   "source": [
    "l = [25,36,92,48,53,77]"
   ]
  },
  {
   "cell_type": "code",
   "execution_count": 5,
   "metadata": {},
   "outputs": [],
   "source": [
    "def connect_coaches(class_instance,engine,last_coach):\n",
    "    \n",
    "    global first_coach\n",
    "    \n",
    "    if engine == last_coach:\n",
    "        \n",
    "        last_coach = class_instance\n",
    "        \n",
    "        first_coach = last_coach\n",
    "    \n",
    "    else:\n",
    "        \n",
    "        last_coach.hook = class_instance\n",
    "        \n",
    "        last_coach = class_instance\n",
    "        \n",
    "    return last_coach"
   ]
  },
  {
   "cell_type": "code",
   "execution_count": 23,
   "metadata": {},
   "outputs": [],
   "source": [
    "def print_linked_list(engine_address):\n",
    "    \n",
    "    if engine_address == None:\n",
    "        \n",
    "        return\n",
    "    \n",
    "    else:\n",
    "        \n",
    "        print(engine_address.a_number)\n",
    "        \n",
    "        print_linked_list(engine_address.hook)"
   ]
  },
  {
   "cell_type": "code",
   "execution_count": 25,
   "metadata": {},
   "outputs": [],
   "source": [
    "def insert(loc,engine_address,value):\n",
    "    \n",
    "    if loc == 1:\n",
    "        \n",
    "        new_coach = train_coach()\n",
    "        \n",
    "        new_coach.a_number = value\n",
    "        \n",
    "        temp_address = engine_address.hook\n",
    "        \n",
    "        engine_address.hook = new_coach\n",
    "        \n",
    "        new_coach.hook = temp_address\n",
    "        \n",
    "        return \n",
    "    \n",
    "    loc = loc - 1\n",
    "    \n",
    "    insert(loc,engine_address.hook,value)"
   ]
  },
  {
   "cell_type": "code",
   "execution_count": 6,
   "metadata": {},
   "outputs": [],
   "source": [
    "engine = None\n",
    "\n",
    "last_coach = None\n",
    "\n",
    "for number in l:\n",
    "    \n",
    "    class_instance = train_coach()\n",
    "    \n",
    "    class_instance.a_number = number\n",
    "    \n",
    "    last_coach = connect_coaches(class_instance,engine,last_coach)"
   ]
  },
  {
   "cell_type": "code",
   "execution_count": 24,
   "metadata": {},
   "outputs": [
    {
     "name": "stdout",
     "output_type": "stream",
     "text": [
      "25\n",
      "36\n",
      "92\n",
      "48\n",
      "53\n",
      "77\n"
     ]
    }
   ],
   "source": [
    "print_linked_list(first_coach)"
   ]
  },
  {
   "cell_type": "code",
   "execution_count": 26,
   "metadata": {},
   "outputs": [],
   "source": [
    "insert(2,first_coach,1001)"
   ]
  },
  {
   "cell_type": "code",
   "execution_count": 27,
   "metadata": {},
   "outputs": [
    {
     "name": "stdout",
     "output_type": "stream",
     "text": [
      "25\n",
      "36\n",
      "1001\n",
      "92\n",
      "48\n",
      "53\n",
      "77\n"
     ]
    }
   ],
   "source": [
    "print_linked_list(first_coach)"
   ]
  },
  {
   "cell_type": "code",
   "execution_count": 28,
   "metadata": {},
   "outputs": [
    {
     "data": {
      "text/plain": [
       "<__main__.train_coach at 0x1851f800470>"
      ]
     },
     "execution_count": 28,
     "metadata": {},
     "output_type": "execute_result"
    }
   ],
   "source": [
    "first_coach"
   ]
  },
  {
   "cell_type": "code",
   "execution_count": 29,
   "metadata": {},
   "outputs": [],
   "source": [
    "insert(4,first_coach,2020)"
   ]
  },
  {
   "cell_type": "code",
   "execution_count": 30,
   "metadata": {},
   "outputs": [
    {
     "name": "stdout",
     "output_type": "stream",
     "text": [
      "25\n",
      "36\n",
      "1001\n",
      "92\n",
      "2020\n",
      "48\n",
      "53\n",
      "77\n"
     ]
    }
   ],
   "source": [
    "print_linked_list(first_coach)"
   ]
  },
  {
   "cell_type": "code",
   "execution_count": null,
   "metadata": {},
   "outputs": [],
   "source": []
  }
 ],
 "metadata": {
  "kernelspec": {
   "display_name": "Python 3",
   "language": "python",
   "name": "python3"
  },
  "language_info": {
   "codemirror_mode": {
    "name": "ipython",
    "version": 3
   },
   "file_extension": ".py",
   "mimetype": "text/x-python",
   "name": "python",
   "nbconvert_exporter": "python",
   "pygments_lexer": "ipython3",
   "version": "3.7.0"
  }
 },
 "nbformat": 4,
 "nbformat_minor": 2
}
